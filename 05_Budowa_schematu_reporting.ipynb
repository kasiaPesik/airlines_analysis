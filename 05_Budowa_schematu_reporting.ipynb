{
 "cells": [
  {
   "cell_type": "markdown",
   "metadata": {},
   "source": [
    " # Aktualizacja bazy danych\n",
    " W tym miejscu odpowiednio skonfiguruj połączenie do bazy danych."
   ]
  },
  {
   "cell_type": "markdown",
   "metadata": {},
   "source": [
    " Tutaj zaimportuj potrzebne biblioteki"
   ]
  },
  {
   "cell_type": "code",
   "execution_count": 22,
   "metadata": {},
   "outputs": [],
   "source": [
    "import psycopg2\n",
    "from psycopg2 import connect, extensions, sql\n",
    "from sqlalchemy import create_engine\n",
    "from sqlalchemy.engine import URL\n",
    "import numpy as np\n",
    "import matplotlib.pyplot as plt\n",
    "import os\n"
   ]
  },
  {
   "cell_type": "markdown",
   "metadata": {},
   "source": [
    " ## Konfiguracja połączenia\n",
    " Tutaj uzupełnij konfigurację połączenia"
   ]
  },
  {
   "cell_type": "code",
   "execution_count": 23,
   "metadata": {},
   "outputs": [],
   "source": [
    "username = 'postgres'\n",
    "password = 'password'\n",
    "\n",
    "host = 'localhost'\n",
    "database = 'airlines'\n",
    "port = 5432"
   ]
  },
  {
   "cell_type": "markdown",
   "metadata": {},
   "source": [
    " Tutaj zdefiniuj zmienną `con` oraz `cursor`"
   ]
  },
  {
   "cell_type": "code",
   "execution_count": 24,
   "metadata": {},
   "outputs": [],
   "source": [
    "conn = psycopg2.connect(\n",
    "    host=host,\n",
    "    database=database,\n",
    "    user=username,\n",
    "    password=password,\n",
    "    port=port)\n",
    "cursor = conn.cursor()"
   ]
  },
  {
   "cell_type": "markdown",
   "metadata": {},
   "source": [
    " ## Wczytanie pliku `reporting.sql`\n",
    " Z katalogu `sql` wczytaj plik `reporting.sql`"
   ]
  },
  {
   "cell_type": "code",
   "execution_count": 25,
   "metadata": {},
   "outputs": [
    {
     "name": "stdout",
     "output_type": "stream",
     "text": [
      "\n",
      "DROP SCHEMA IF EXISTS reporting CASCADE;\n",
      "CREATE SCHEMA IF NOT EXISTS reporting;\n",
      "\n",
      "\n",
      "CREATE OR REPLACE VIEW reporting.flight AS\n",
      "SELECT *,\n",
      "    CASE\n",
      "           WHEN flight.dep_delay_new > 0 THEN 1\n",
      "           ELSE 0\n",
      "       END AS is_delayed\n",
      "\t\n",
      "FROM\n",
      "    flight\n",
      "WHERE\n",
      "    flight.cancelled = 0;\n",
      "\n",
      "CREATE OR REPLACE VIEW reporting.top_reliability_roads\n",
      " AS\n",
      " SELECT f.origin_airport_id,\n",
      "    al1.name AS origin_airport_name,\n",
      "    f.dest_airport_id,\n",
      "    al2.name AS dest_airport_name,\n",
      "    f.year,\n",
      "    count(*) AS cnt,\n",
      "    round(avg(\n",
      "        CASE\n",
      "            WHEN f.dep_delay_new > 0::double precision THEN 1\n",
      "            ELSE 0\n",
      "        END), 2) AS reliability,\n",
      "    rank() OVER (ORDER BY (avg(\n",
      "        CASE\n",
      "            WHEN f.dep_delay_new > 0::double precision THEN 1\n",
      "            ELSE 0\n",
      "        END)) DESC) AS nb\n",
      "   FROM flight f\n",
      "     JOIN airport_list al1 ON f.origin_airport_id = al1.origin_airport_id\n",
      "     JOIN airport_list al2 ON f.dest_airport_id = al2.origin_airport_id\n",
      "  GROUP BY f.origin_airport_id, al1.name, f.dest_airport_id, al2.name, f.year\n",
      " HAVING count(*) > 10000\n",
      "  ORDER BY (count(*)) DESC;\n",
      "CREATE VIEW reporting.year_to_year_comparision AS\n",
      "select \n",
      "year,\n",
      "month,\n",
      "count(*) as flights_amount,\n",
      "round(avg(\n",
      "        CASE\n",
      "            WHEN dep_delay_new > 0::double precision THEN 1\n",
      "            ELSE 0\n",
      "        END), 2) AS reliability\n",
      "from flight \n",
      "group by year,month\n",
      "ORDER BY year,month;\n",
      "CREATE VIEW reporting.day_to_day_comparision AS\n",
      "select \n",
      "year, \n",
      "day_of_week,\n",
      "count(*) as flights_amount\n",
      "from flight\n",
      "group by year, day_of_week \n",
      "order by year, day_of_week;\n",
      "\n",
      "CREATE VIEW reporting.day_by_day_reliability AS\n",
      "SELECT\n",
      "    TO_DATE(CONCAT(year, '-', month, '-', day_of_month), 'YYYY-MM-DD') AS date,\n",
      "    ROUND(AVG(CASE WHEN dep_delay_new > 0 THEN 1 ELSE 0 END)::NUMERIC, 2) AS reliability\n",
      "FROM flight AS f\n",
      "GROUP BY year, month, day_of_month\n",
      "ORDER BY date\n"
     ]
    }
   ],
   "source": [
    "with open(r'C:\\Users\\admin\\Desktop\\Koncowego_sprawdzony\\sql\\reporting.sql', mode='r') as sql_file:\n",
    "    reporting_sql = sql_file.read()\n",
    "    \n",
    "print(reporting_sql)"
   ]
  },
  {
   "cell_type": "markdown",
   "metadata": {},
   "source": [
    " W tym miejscu odpowiednio rozdziel zawartość pliku `reporting.sql` na mniejsze kwerendy używając `;`"
   ]
  },
  {
   "cell_type": "code",
   "execution_count": 26,
   "metadata": {},
   "outputs": [
    {
     "name": "stdout",
     "output_type": "stream",
     "text": [
      "['\\nDROP SCHEMA IF EXISTS reporting CASCADE', '\\nCREATE SCHEMA IF NOT EXISTS reporting', '\\n\\n\\nCREATE OR REPLACE VIEW reporting.flight AS\\nSELECT *,\\n    CASE\\n           WHEN flight.dep_delay_new > 0 THEN 1\\n           ELSE 0\\n       END AS is_delayed\\n\\t\\nFROM\\n    flight\\nWHERE\\n    flight.cancelled = 0', '\\n\\nCREATE OR REPLACE VIEW reporting.top_reliability_roads\\n AS\\n SELECT f.origin_airport_id,\\n    al1.name AS origin_airport_name,\\n    f.dest_airport_id,\\n    al2.name AS dest_airport_name,\\n    f.year,\\n    count(*) AS cnt,\\n    round(avg(\\n        CASE\\n            WHEN f.dep_delay_new > 0::double precision THEN 1\\n            ELSE 0\\n        END), 2) AS reliability,\\n    rank() OVER (ORDER BY (avg(\\n        CASE\\n            WHEN f.dep_delay_new > 0::double precision THEN 1\\n            ELSE 0\\n        END)) DESC) AS nb\\n   FROM flight f\\n     JOIN airport_list al1 ON f.origin_airport_id = al1.origin_airport_id\\n     JOIN airport_list al2 ON f.dest_airport_id = al2.origin_airport_id\\n  GROUP BY f.origin_airport_id, al1.name, f.dest_airport_id, al2.name, f.year\\n HAVING count(*) > 10000\\n  ORDER BY (count(*)) DESC', '\\nCREATE VIEW reporting.year_to_year_comparision AS\\nselect \\nyear,\\nmonth,\\ncount(*) as flights_amount,\\nround(avg(\\n        CASE\\n            WHEN dep_delay_new > 0::double precision THEN 1\\n            ELSE 0\\n        END), 2) AS reliability\\nfrom flight \\ngroup by year,month\\nORDER BY year,month', '\\nCREATE VIEW reporting.day_to_day_comparision AS\\nselect \\nyear, \\nday_of_week,\\ncount(*) as flights_amount\\nfrom flight\\ngroup by year, day_of_week \\norder by year, day_of_week', \"\\n\\nCREATE VIEW reporting.day_by_day_reliability AS\\nSELECT\\n    TO_DATE(CONCAT(year, '-', month, '-', day_of_month), 'YYYY-MM-DD') AS date,\\n    ROUND(AVG(CASE WHEN dep_delay_new > 0 THEN 1 ELSE 0 END)::NUMERIC, 2) AS reliability\\nFROM flight AS f\\nGROUP BY year, month, day_of_month\\nORDER BY date\"]\n"
     ]
    }
   ],
   "source": [
    "queries = reporting_sql.split(';')\n",
    "print(queries)"
   ]
  },
  {
   "cell_type": "markdown",
   "metadata": {},
   "source": [
    " W tym miejscu wykonaj każdą z kwerend, aby zainicjować strukturę bazy danych"
   ]
  },
  {
   "cell_type": "code",
   "execution_count": 27,
   "metadata": {},
   "outputs": [],
   "source": [
    "with conn.cursor() as cur:\n",
    "    for query in queries:\n",
    "        if query.strip() != '':\n",
    "            cur.execute(query)\n",
    "    conn.commit()"
   ]
  },
  {
   "cell_type": "code",
   "execution_count": 28,
   "metadata": {},
   "outputs": [],
   "source": [
    "conn.close()"
   ]
  }
 ],
 "metadata": {
  "kernelspec": {
   "display_name": "Python 3 (ipykernel)",
   "language": "python",
   "name": "python3"
  },
  "language_info": {
   "codemirror_mode": {
    "name": "ipython",
    "version": 3
   },
   "file_extension": ".py",
   "mimetype": "text/x-python",
   "name": "python",
   "nbconvert_exporter": "python",
   "pygments_lexer": "ipython3",
   "version": "3.10.5"
  },
  "vscode": {
   "interpreter": {
    "hash": "38d75d0df746d7f75dd34c5d1915af59cb55786647bd68b8d9064425d7680b12"
   }
  }
 },
 "nbformat": 4,
 "nbformat_minor": 2
}
