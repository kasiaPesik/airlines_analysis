{
 "cells": [
  {
   "cell_type": "markdown",
   "metadata": {},
   "source": [
    " Tutaj zaimportuj potrzebne biblioteki"
   ]
  },
  {
   "cell_type": "code",
   "execution_count": 1,
   "metadata": {},
   "outputs": [],
   "source": [
    "import psycopg2"
   ]
  },
  {
   "cell_type": "markdown",
   "metadata": {},
   "source": [
    " ## Połączenie z bazą danych\n",
    " Tutaj uzupełnij konfigurację połączenia"
   ]
  },
  {
   "cell_type": "code",
   "execution_count": 22,
   "metadata": {},
   "outputs": [],
   "source": [
    "username = 'postgres'\n",
    "password = 'password'\n",
    "\n",
    "host = 'localhost'\n",
    "database = 'airlines'\n",
    "port = 5432"
   ]
  },
  {
   "cell_type": "markdown",
   "metadata": {},
   "source": [
    "Tutaj zdefiniuj zmienną `con` oraz `cursor`"
   ]
  },
  {
   "cell_type": "code",
   "execution_count": 27,
   "metadata": {},
   "outputs": [],
   "source": [
    "conn = psycopg2.connect(\n",
    "    host=host,\n",
    "    database=database,\n",
    "    user=username,\n",
    "    password=password,\n",
    "    port=port)\n",
    "cursor = conn.cursor()"
   ]
  },
  {
   "cell_type": "markdown",
   "metadata": {},
   "source": [
    " ## Wczytanie pliku `database_schema.sql`\n",
    " Z katalogu `sql` wczytaj plik `database_schema.sql`"
   ]
  },
  {
   "cell_type": "code",
   "execution_count": 24,
   "metadata": {},
   "outputs": [
    {
     "name": "stdout",
     "output_type": "stream",
     "text": [
      "DROP TABLE IF EXISTS public.aircraft CASCADE;\n",
      "CREATE TABLE IF NOT EXISTS public.aircraft\n",
      "(\n",
      "    id serial,\n",
      "    manufacture_year bigint,\n",
      "    tail_num text,\n",
      "    number_of_seats double precision\n",
      ")\n",
      ";\n",
      "\n",
      "CREATE OR REPLACE VIEW public.v_aircraft_blocker AS\n",
      "SELECT 1 FROM public.aircraft LIMIT 1;\n",
      "\n",
      "DROP TABLE IF EXISTS public.airport_weather CASCADE;\n",
      "CREATE TABLE IF NOT EXISTS public.airport_weather\n",
      "(\n",
      "    id serial,\n",
      "    station text,\n",
      "    name text,\n",
      "    date text,\n",
      "    awnd double precision,\n",
      "    pgtm double precision,\n",
      "    prcp double precision,\n",
      "    snow double precision,\n",
      "    snwd double precision,\n",
      "    tavg double precision,\n",
      "    tmax double precision,\n",
      "    tmin double precision,\n",
      "    wdf2 double precision,\n",
      "    wdf5 double precision,\n",
      "    wsf2 double precision,\n",
      "    wsf5 double precision,\n",
      "    wt01 double precision,\n",
      "    wt02 double precision,\n",
      "    wt03 double precision,\n",
      "    wt04 double precision,\n",
      "    wt05 double precision,\n",
      "    wt06 double precision,\n",
      "    wt07 double precision,\n",
      "    wt08 double precision,\n",
      "    wt09 double precision,\n",
      "    wesd double precision,\n",
      "    wt10 double precision,\n",
      "    psun double precision,\n",
      "    tsun double precision,\n",
      "    sn32 double precision,\n",
      "    sx32 double precision,\n",
      "    tobs double precision,\n",
      "    wt11 double precision,\n",
      "    wt18 double precision\n",
      ")\n",
      ";\n",
      "\n",
      "/* BLOCKER TO FORCE USAGE if_exists in PANDAS REMOVE IF OBSTACLE*/\n",
      "CREATE OR REPLACE VIEW public.v_aircraft_weather_blocker AS\n",
      "SELECT 1 FROM public.airport_weather LIMIT 1;\n",
      "\n",
      "DROP TABLE IF EXISTS public.flight CASCADE;\n",
      "CREATE TABLE IF NOT EXISTS public.flight\n",
      "(\n",
      "    id serial,\n",
      "    month bigint,\n",
      "    day_of_month bigint,\n",
      "    day_of_week bigint,\n",
      "    op_unique_carrier text,\n",
      "    tail_num text,\n",
      "    op_carrier_fl_num bigint,\n",
      "    origin_airport_id bigint,\n",
      "    dest_airport_id bigint,\n",
      "    crs_dep_time bigint,\n",
      "    dep_time double precision,\n",
      "    dep_delay_new double precision,\n",
      "    dep_time_blk text,\n",
      "    crs_arr_time bigint,\n",
      "    arr_time double precision,\n",
      "    arr_delay_new double precision,\n",
      "    arr_time_blk text,\n",
      "    cancelled double precision,\n",
      "    crs_elapsed_time double precision,\n",
      "    actual_elapsed_time double precision,\n",
      "    distance double precision,\n",
      "    distance_group bigint,\n",
      "    carrier_delay double precision,\n",
      "    weather_delay double precision,\n",
      "    nas_delay double precision,\n",
      "    security_delay double precision,\n",
      "    late_aircraft_delay double precision,\n",
      "    year bigint\n",
      ")\n",
      ";\n",
      "\n",
      "/* BLOCKER TO FORCE USAGE if_exists in PANDAS REMOVE IF OBSTACLE*/\n",
      "CREATE OR REPLACE VIEW public.v_flight_blocker AS\n",
      "SELECT 1 FROM public.flight LIMIT 1;\n",
      "\n",
      "DROP TABLE IF EXISTS public.airport_list CASCADE;\n",
      "CREATE TABLE IF NOT EXISTS public.airport_list\n",
      "(\n",
      "    id serial,\n",
      "    origin_airport_id bigint,\n",
      "    display_airport_name text ,\n",
      "    origin_city_name text ,\n",
      "    name text \n",
      ")\n",
      ";\n",
      "\n",
      "CREATE OR REPLACE VIEW public.v_airport_list_blocker AS\n",
      "SELECT 1 FROM public.airport_list LIMIT 1\n"
     ]
    }
   ],
   "source": [
    "with open(r'C:\\Users\\admin\\Desktop\\Koncowego_sprawdzony\\sql\\database_schema.sql', mode='r') as sql_file:\n",
    "    schema_sql = sql_file.read()\n",
    "    \n",
    "print(schema_sql)"
   ]
  },
  {
   "cell_type": "markdown",
   "metadata": {},
   "source": [
    " W tym miejscu odpowiednio rozdziel zawartość pliku `database_schema.sql` na mniejsze kwerendy używając `;`"
   ]
  },
  {
   "cell_type": "code",
   "execution_count": 25,
   "metadata": {},
   "outputs": [
    {
     "name": "stdout",
     "output_type": "stream",
     "text": [
      "['DROP TABLE IF EXISTS public.aircraft CASCADE', '\\nCREATE TABLE IF NOT EXISTS public.aircraft\\n(\\n    id serial,\\n    manufacture_year bigint,\\n    tail_num text,\\n    number_of_seats double precision\\n)\\n', '\\n\\nCREATE OR REPLACE VIEW public.v_aircraft_blocker AS\\nSELECT 1 FROM public.aircraft LIMIT 1', '\\n\\nDROP TABLE IF EXISTS public.airport_weather CASCADE', '\\nCREATE TABLE IF NOT EXISTS public.airport_weather\\n(\\n    id serial,\\n    station text,\\n    name text,\\n    date text,\\n    awnd double precision,\\n    pgtm double precision,\\n    prcp double precision,\\n    snow double precision,\\n    snwd double precision,\\n    tavg double precision,\\n    tmax double precision,\\n    tmin double precision,\\n    wdf2 double precision,\\n    wdf5 double precision,\\n    wsf2 double precision,\\n    wsf5 double precision,\\n    wt01 double precision,\\n    wt02 double precision,\\n    wt03 double precision,\\n    wt04 double precision,\\n    wt05 double precision,\\n    wt06 double precision,\\n    wt07 double precision,\\n    wt08 double precision,\\n    wt09 double precision,\\n    wesd double precision,\\n    wt10 double precision,\\n    psun double precision,\\n    tsun double precision,\\n    sn32 double precision,\\n    sx32 double precision,\\n    tobs double precision,\\n    wt11 double precision,\\n    wt18 double precision\\n)\\n', '\\n\\n/* BLOCKER TO FORCE USAGE if_exists in PANDAS REMOVE IF OBSTACLE*/\\nCREATE OR REPLACE VIEW public.v_aircraft_weather_blocker AS\\nSELECT 1 FROM public.airport_weather LIMIT 1', '\\n\\nDROP TABLE IF EXISTS public.flight CASCADE', '\\nCREATE TABLE IF NOT EXISTS public.flight\\n(\\n    id serial,\\n    month bigint,\\n    day_of_month bigint,\\n    day_of_week bigint,\\n    op_unique_carrier text,\\n    tail_num text,\\n    op_carrier_fl_num bigint,\\n    origin_airport_id bigint,\\n    dest_airport_id bigint,\\n    crs_dep_time bigint,\\n    dep_time double precision,\\n    dep_delay_new double precision,\\n    dep_time_blk text,\\n    crs_arr_time bigint,\\n    arr_time double precision,\\n    arr_delay_new double precision,\\n    arr_time_blk text,\\n    cancelled double precision,\\n    crs_elapsed_time double precision,\\n    actual_elapsed_time double precision,\\n    distance double precision,\\n    distance_group bigint,\\n    carrier_delay double precision,\\n    weather_delay double precision,\\n    nas_delay double precision,\\n    security_delay double precision,\\n    late_aircraft_delay double precision,\\n    year bigint\\n)\\n', '\\n\\n/* BLOCKER TO FORCE USAGE if_exists in PANDAS REMOVE IF OBSTACLE*/\\nCREATE OR REPLACE VIEW public.v_flight_blocker AS\\nSELECT 1 FROM public.flight LIMIT 1', '\\n\\nDROP TABLE IF EXISTS public.airport_list CASCADE', '\\nCREATE TABLE IF NOT EXISTS public.airport_list\\n(\\n    id serial,\\n    origin_airport_id bigint,\\n    display_airport_name text ,\\n    origin_city_name text ,\\n    name text \\n)\\n', '\\n\\nCREATE OR REPLACE VIEW public.v_airport_list_blocker AS\\nSELECT 1 FROM public.airport_list LIMIT 1']\n"
     ]
    }
   ],
   "source": [
    "kwerendy = schema_sql.split(';')\n",
    "print(kwerendy)"
   ]
  },
  {
   "cell_type": "markdown",
   "metadata": {},
   "source": [
    " W tym miejscu wykonaj każdą z kwerend, aby zainicjować strukturę bazy danych"
   ]
  },
  {
   "cell_type": "code",
   "execution_count": 28,
   "metadata": {},
   "outputs": [],
   "source": [
    "for kwerenda in kwerendy:\n",
    "        if kwerenda.strip() != '':\n",
    "            cursor.execute(kwerenda)\n",
    "            conn.commit()"
   ]
  },
  {
   "cell_type": "markdown",
   "metadata": {},
   "source": [
    " Zatwierdznie wszystkich operacji na bazie, czyli stworzenie tabel"
   ]
  },
  {
   "cell_type": "code",
   "execution_count": 29,
   "metadata": {},
   "outputs": [],
   "source": [
    "conn.commit()"
   ]
  }
 ],
 "metadata": {
  "kernelspec": {
   "display_name": "Python 3",
   "language": "python",
   "name": "python3"
  },
  "language_info": {
   "codemirror_mode": {
    "name": "ipython",
    "version": 3
   },
   "file_extension": ".py",
   "mimetype": "text/x-python",
   "name": "python",
   "nbconvert_exporter": "python",
   "pygments_lexer": "ipython3",
   "version": "3.10.5"
  },
  "vscode": {
   "interpreter": {
    "hash": "beedbe2faf2f7048d727558d0bc3221e7eba2a0b921cac4d4771b2feb8f74b30"
   }
  }
 },
 "nbformat": 4,
 "nbformat_minor": 2
}
